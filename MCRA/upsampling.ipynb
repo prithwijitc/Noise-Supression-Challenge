{
 "cells": [
  {
   "cell_type": "code",
   "execution_count": 4,
   "metadata": {},
   "outputs": [],
   "source": [
    "import os\n",
    "import librosa\n",
    "import soundfile as sf\n",
    "\n",
    "# audio_path = 'D:\\\\AudioTrainset\\\\noisy_wav_32k\\\\'\n",
    "# audio_list = os.listdir('D:\\\\AudioTrainset\\\\noisy_wav_32k')[:500]\n",
    "# output_path = 'D:\\\\AudioTrainset\\\\noisy_wav_16k\\\\'\n",
    "\n",
    "# for audio in audio_list:\n",
    "#     print(audio)\n",
    "#     wavfile = librosa.load(audio_path+audio, sr=16000)\n",
    "#     sf.write(output_path+audio, wavfile[0], wavfile[1])\n",
    "wavfile = librosa.load('destroyerengine.wav', sr=16000)    \n",
    "sf.write('destroyerengine_16k.wav', wavfile[0], wavfile[1])\n",
    "\n"
   ]
  },
  {
   "cell_type": "code",
   "execution_count": null,
   "metadata": {},
   "outputs": [],
   "source": []
  },
  {
   "cell_type": "code",
   "execution_count": null,
   "metadata": {},
   "outputs": [],
   "source": []
  },
  {
   "cell_type": "code",
   "execution_count": null,
   "metadata": {},
   "outputs": [],
   "source": []
  },
  {
   "cell_type": "code",
   "execution_count": null,
   "metadata": {},
   "outputs": [],
   "source": []
  }
 ],
 "metadata": {
  "kernelspec": {
   "display_name": "smart",
   "language": "python",
   "name": "smart"
  },
  "language_info": {
   "codemirror_mode": {
    "name": "ipython",
    "version": 3
   },
   "file_extension": ".py",
   "mimetype": "text/x-python",
   "name": "python",
   "nbconvert_exporter": "python",
   "pygments_lexer": "ipython3",
   "version": "3.7.10"
  }
 },
 "nbformat": 4,
 "nbformat_minor": 4
}
